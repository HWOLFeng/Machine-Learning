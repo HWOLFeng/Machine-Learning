{
 "cells": [
  {
   "cell_type": "markdown",
   "metadata": {},
   "source": [
    "通常来说数据标准化（任一特征在数据集中，均值为0，标准差为1）预处理对于浅层模型来说就足够了，但是对于深层神经网络来说，即使做了标准化，模型参数的更新容易造成输出层输出的剧烈变化。\n",
    "\n",
    "批归一化提出正是为了应对深度模型的训练。利用小批量上的均值和标准差，不断调整神经网络中间输出，从而使整个网络各层更加稳定。"
   ]
  },
  {
   "cell_type": "markdown",
   "metadata": {},
   "source": [
    "# 批量归一化层\n",
    "\n",
    "我们先考虑如何对全连接层做批量归一化。\n",
    "\n",
    "将批归一化层置于全连接层中的仿射变换和激活函数之间。\n",
    "\n",
    "设全连接层的输出为$u$，权重参数和偏差参数分别为$W$和$b$，激活函数为$\\phi$。设批归一化的运算符为$BN$。那么，使用批归一化的全连接层的输出为：\n",
    "\n",
    "$$\n",
    "\\phi(BN(x)) \\\\\n",
    "x = Wu + b\n",
    "$$"
   ]
  },
  {
   "cell_type": "markdown",
   "metadata": {},
   "source": [
    "对于m个样本，\n",
    "$\\mathcal{B}=\\left\\{\\boldsymbol{x}^{(1)}, \\ldots, \\boldsymbol{x}^{(m)}\\right\\}$，对于$B$中任意样本$\\boldsymbol{x}^{(i)} \\in \\mathbb{R}^{d}, 1 \\leq i \\leq m$，批量归一化层的输出同样是$d$维向量。\n",
    "$$\n",
    "\\boldsymbol{y}^{(i)}=\\mathrm{BN}\\left(\\boldsymbol{x}^{(i)}\\right)\n",
    "$$\n",
    "求均值和方差（平方是按元素求平方）：\n",
    "$$\n",
    "\\boldsymbol{\\mu}_{\\mathcal{B}} \\leftarrow \\frac{1}{m} \\sum_{i=1}^{m} \\boldsymbol{x}^{(i)}, \\boldsymbol{\\sigma}_{\\mathcal{B}}^{2} \\leftarrow \\frac{1}{m} \\sum_{i=1}^{m}\\left(\\boldsymbol{x}^{(i)}-\\boldsymbol{\\mu}_{\\mathcal{B}}\\right)^{2}\n",
    "$$\n",
    "标准化：\n",
    "$$\n",
    "\\hat{\\boldsymbol{x}}^{(i)} \\leftarrow \\frac{\\boldsymbol{x}^{(i)}-\\boldsymbol{\\mu}_{\\mathcal{B}}}{\\sqrt{\\boldsymbol{\\sigma}_{\\mathcal{B}}^{2}+\\epsilon}}\n",
    "$$\n",
    "引入 $\\epsilon$ 避免分母为0\n",
    "\n",
    "同时，引入和拉伸scale参数$\\gamma$和旋转shift$\\beta$（这两个参数保留了对输入不进行批归一化的可能，因为它们也是要学习的），这两个参数形状相同，皆为$d$维向量。\n",
    "\n",
    "$$\n",
    "\\boldsymbol{y}^{(i)} \\leftarrow \\boldsymbol{\\gamma} \\odot \\hat{\\boldsymbol{x}}^{(i)}+\\beta\n",
    "$$"
   ]
  },
  {
   "cell_type": "markdown",
   "metadata": {},
   "source": [
    "## 卷积层的批归一化\n",
    "卷积层如果有多个通道，每个通道都有独立的拉伸和偏移参数，并且均为标量。我们需要对每个通道分别做批量归一化。\n",
    "\n",
    "训练时批量窗口大小可以设置比预测时大一点。使得批量样本的均值和方差都较为准确，同时希望预测时样本输出不取决于随机小批量的均值和方差。\n",
    "\n",
    "可见和dropout一样，批归一化层的训练和预测的参数是不一样的。"
   ]
  },
  {
   "cell_type": "markdown",
   "metadata": {},
   "source": [
    "# 从0开始"
   ]
  },
  {
   "cell_type": "code",
   "execution_count": 1,
   "metadata": {},
   "outputs": [],
   "source": [
    "import time\n",
    "import torch\n",
    "import torch.nn as nn\n",
    "import torch.optim as optim\n",
    "import d2lzh_pytorch as d2l\n",
    "\n",
    "device = torch.device('cuda' if torch.cuda.is_available() else 'cpu')"
   ]
  },
  {
   "cell_type": "code",
   "execution_count": 7,
   "metadata": {},
   "outputs": [],
   "source": [
    "def batch_norm(is_training, X, gamma, beta, moving_mean, moving_var, eps, momentum):\n",
    "    if not is_training:\n",
    "        # 如果是在预测模式下，直接使用传入的移动平均所得的均值和方差\n",
    "        X_hat = (X - moving_mean) / torch.sqrt(moving_var + eps)\n",
    "    else:\n",
    "        assert len(X.shape) in (2, 4)\n",
    "        if len(X.shape) == 2:\n",
    "            # 使用全连接层的情况，计算特征维上的均值和方差\n",
    "            mean = X.mean(dim=0)\n",
    "            var = ((X - mean) ** 2).mean(dim=0)\n",
    "        else: \n",
    "            # 使用二维卷积层的情况，计算通道维（axis=1）的均值和方差\n",
    "            # 需要保持X的形状，以便后面可以做广播运算\n",
    "            mean = X.mean(dim=0, keepdim=True).mean(dim=2, keepdim=True).mean(dim=3, keepdim=True)\n",
    "            var = ((X - mean) ** 2).mean(dim=0, keepdim=True).mean(dim=2, keepdim=True).mean(dim=3, keepdim=True)\n",
    "        X_hat = (X - mean) / torch.sqrt(var + eps)\n",
    "        moving_mean = momentum * moving_mean + (1.0 - momentum) * mean\n",
    "        moving_var = momentum * moving_var + (1.0 - momentum) * var\n",
    "    Y = gamma * X_hat + beta # 拉伸和偏移\n",
    "    return Y, moving_mean, moving_var"
   ]
  },
  {
   "cell_type": "code",
   "execution_count": 6,
   "metadata": {},
   "outputs": [
    {
     "data": {
      "text/plain": [
       "(tensor([[[[0.1159, 0.0155, 0.4909, 0.3276],\n",
       "           [0.3987, 0.9090, 0.6676, 0.3220],\n",
       "           [0.8273, 0.9697, 0.8203, 0.6582]],\n",
       " \n",
       "          [[0.4537, 0.6777, 0.9467, 0.4546],\n",
       "           [0.9010, 0.4501, 0.7847, 0.9261],\n",
       "           [0.0317, 0.2968, 0.2846, 0.2458]]],\n",
       " \n",
       " \n",
       "         [[[0.1446, 0.5871, 0.6134, 0.4794],\n",
       "           [0.2811, 0.3935, 0.6121, 0.4449],\n",
       "           [0.7842, 0.1992, 0.7545, 0.4999]],\n",
       " \n",
       "          [[0.0714, 0.2416, 0.9717, 0.3972],\n",
       "           [0.5346, 0.0168, 0.8711, 0.2297],\n",
       "           [0.9736, 0.0882, 0.9332, 0.7671]]]]),\n",
       " tensor([[[[0.1302, 0.3013, 0.5522, 0.4035],\n",
       "           [0.3399, 0.6512, 0.6399, 0.3835],\n",
       "           [0.8057, 0.5845, 0.7874, 0.5791]],\n",
       " \n",
       "          [[0.2626, 0.4596, 0.9592, 0.4259],\n",
       "           [0.7178, 0.2334, 0.8279, 0.5779],\n",
       "           [0.5026, 0.1925, 0.6089, 0.5065]]]]),\n",
       " tensor([[[[0.4253, 0.5123, 0.6598, 0.4553]],\n",
       " \n",
       "          [[0.4943, 0.2952, 0.7987, 0.5034]]]]),\n",
       " torch.Size([2, 2, 3, 4]),\n",
       " torch.Size([1, 2, 3, 4]),\n",
       " torch.Size([1, 2, 1, 4]))"
      ]
     },
     "execution_count": 6,
     "metadata": {},
     "output_type": "execute_result"
    }
   ],
   "source": [
    "# 看看torch.mean的效果\n",
    "X = torch.rand(2, 2, 3, 4)\n",
    "X_mean = X.mean(dim=0, keepdim=True)\n",
    "XX_mean = X_mean.mean(dim=2, keepdim=True)\n",
    "X, X_mean,XX_mean, X.shape, X_mean.shape,XX_mean.shape"
   ]
  },
  {
   "cell_type": "code",
   "execution_count": 8,
   "metadata": {},
   "outputs": [],
   "source": [
    "class BatchNorm(nn.Module):\n",
    "    def __init__(self, num_features, num_dims):\n",
    "        super(BatchNorm, self).__init__()\n",
    "        if num_dims == 2:\n",
    "            shape = (1, num_features)\n",
    "        else:\n",
    "            shape = (1, num_features, 1, 1)\n",
    "        # 参与求梯度的变量gamma和beta\n",
    "        self.gamma = nn.Parameter(torch.ones(shape))\n",
    "        self.beta = nn.Parameter(torch.zeros(shape))\n",
    "        # 不参与求梯度的变量\n",
    "        self.moving_mean = torch.zeros(shape)\n",
    "        self.moving_var = torch.zeros(shape)\n",
    "    def forward(self, X):\n",
    "        # 如果X不在显存上，则将变量复制到X所在显存上\n",
    "        if self.moving_mean.device != X.device:\n",
    "            self.moving_mean = self.moving_mean.to(X.device)\n",
    "            self.moving_var = self.moving_var.to(X.device)\n",
    "        Y, self.moving_mean, self.moving_var = batch_norm(self.training, X, self.gamma, self.beta, self.moving_mean, self.moving_var, eps=1e-5, momentum=0.9)\n",
    "        return Y"
   ]
  },
  {
   "cell_type": "markdown",
   "metadata": {},
   "source": [
    "在LeNet上应用批归一化"
   ]
  },
  {
   "cell_type": "code",
   "execution_count": 9,
   "metadata": {},
   "outputs": [],
   "source": [
    "net = nn.Sequential(\n",
    "    nn.Conv2d(1, 6, 5),\n",
    "    BatchNorm(6, num_dims=4),\n",
    "    nn.Sigmoid(),\n",
    "    nn.MaxPool2d(2, 2),\n",
    "    nn.Conv2d(6, 16, 5),\n",
    "    BatchNorm(16, num_dims=4),\n",
    "    nn.Sigmoid(),\n",
    "    nn.MaxPool2d(2, 2),\n",
    "    d2l.FlattenLayer(),\n",
    "    nn.Linear(16*4*4, 120),\n",
    "    BatchNorm(120, num_dims=2),\n",
    "    nn.Sigmoid(),\n",
    "    nn.Linear(120, 84),\n",
    "    BatchNorm(84, num_dims=2),\n",
    "    nn.Sigmoid(),\n",
    "    nn.Linear(84, 10)\n",
    ")"
   ]
  },
  {
   "cell_type": "code",
   "execution_count": null,
   "metadata": {},
   "outputs": [],
   "source": [
    "batch_size = 256\n",
    "train_iter, test_iter = d2l.load_data_fashion_mnist2(batch_size=batch_size)\n",
    "lr, num_epochs = 0.001, 5\n",
    "optimizer = optim.Adam(net.parameters(), lr=lr)\n",
    "# 反正我是train不动的\n",
    "d2l.train_cuda_cpu(net, train_iter, test_iter, batch_size, optimizer, device, num_epochs)"
   ]
  },
  {
   "cell_type": "code",
   "execution_count": null,
   "metadata": {},
   "outputs": [],
   "source": [
    "# 查看第一个批量归一化层学到的参数:gamma, beta\n",
    "net[1].gamma.view((-1, )), net[1].beta.view((-1, ))"
   ]
  },
  {
   "cell_type": "markdown",
   "metadata": {},
   "source": [
    "Pytorch中nn模块也定义了BatchNorm1d和BatchNorm2d，二者分别用于全连接层和卷积层，都需要指定输入的 **num_features**。"
   ]
  },
  {
   "cell_type": "code",
   "execution_count": 11,
   "metadata": {},
   "outputs": [],
   "source": [
    "net = nn.Sequential(\n",
    "    nn.Conv2d(1, 6, 5),\n",
    "    nn.BatchNorm2d(6),\n",
    "    nn.Sigmoid(),\n",
    "    nn.MaxPool2d(2, 2),\n",
    "    nn.Conv2d(6, 16, 5),\n",
    "    nn.BatchNorm2d(16),\n",
    "    nn.Sigmoid(),\n",
    "    nn.MaxPool2d(2, 2),\n",
    "    d2l.FlattenLayer(),\n",
    "    nn.Linear(16*4*4, 120),\n",
    "    nn.BatchNorm1d(120),\n",
    "    nn.Sigmoid(),\n",
    "    nn.Linear(120, 84),\n",
    "    nn.BatchNorm1d(84),\n",
    "    nn.Sigmoid(),\n",
    "    nn.Linear(84, 10)\n",
    ")"
   ]
  },
  {
   "cell_type": "code",
   "execution_count": null,
   "metadata": {},
   "outputs": [],
   "source": [
    "batch_size = 256\n",
    "train_iter, test_iter = d2l.load_data_fashion_mninst2(batch_size=batch_size)\n",
    "optimizer = optim.Adam(net.parameters(), lr=lr)\n",
    "d2l.train_cuda_cpu(net, train_iter, test_iter, batch_size, optimizer, device, num_epochs)"
   ]
  }
 ],
 "metadata": {
  "kernelspec": {
   "display_name": "Python 3",
   "language": "python",
   "name": "python3"
  },
  "language_info": {
   "codemirror_mode": {
    "name": "ipython",
    "version": 3
   },
   "file_extension": ".py",
   "mimetype": "text/x-python",
   "name": "python",
   "nbconvert_exporter": "python",
   "pygments_lexer": "ipython3",
   "version": "3.7.4"
  }
 },
 "nbformat": 4,
 "nbformat_minor": 2
}
