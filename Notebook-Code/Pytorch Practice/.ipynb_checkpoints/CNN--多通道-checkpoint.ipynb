{
 "cells": [
  {
   "cell_type": "markdown",
   "metadata": {},
   "source": [
    "输入和卷积核个有$c_{i}$个通道，可以在各个通道上对输入的二维数组核卷积核做互相关运算，再将$c_{i}$个互相关运算的二维输出按通道相加。"
   ]
  },
  {
   "cell_type": "code",
   "execution_count": 1,
   "metadata": {},
   "outputs": [],
   "source": [
    "import torch\n",
    "import torch.nn as nn\n",
    "import d2lzh_pytorch as d2l"
   ]
  },
  {
   "cell_type": "markdown",
   "metadata": {},
   "source": [
    "# 多输入通道"
   ]
  },
  {
   "cell_type": "code",
   "execution_count": 2,
   "metadata": {},
   "outputs": [],
   "source": [
    "def corr2d_multi_in(X, K):\n",
    "    res = d2l.corr2d(X[0, :, :], K[0, :, :])\n",
    "    for i in range(1, X.shape[0]):\n",
    "        res += d2l.corr2d(X[i,:,:], K[i,:,:])\n",
    "    return res"
   ]
  },
  {
   "cell_type": "code",
   "execution_count": 3,
   "metadata": {},
   "outputs": [
    {
     "data": {
      "text/plain": [
       "tensor([[ 56.,  72.],\n",
       "        [104., 120.]])"
      ]
     },
     "execution_count": 3,
     "metadata": {},
     "output_type": "execute_result"
    }
   ],
   "source": [
    "X = torch.tensor([[[0, 1, 2], [3, 4, 5], [6, 7, 8]],\n",
    "                  [[1, 2, 3], [4, 5, 6], [7, 8, 9]]])\n",
    "K = torch.tensor([[[0, 1], [2, 3]], [[1, 2], [3, 4]]])\n",
    "corr2d_multi_in(X, K)"
   ]
  },
  {
   "cell_type": "markdown",
   "metadata": {},
   "source": [
    "# 多输出通道"
   ]
  },
  {
   "cell_type": "markdown",
   "metadata": {},
   "source": [
    "如果希望含有多个通道的输出，我们可以为每个输出通道分别创建形状为$c_i \\times k_h \\times k_w$的核数组，将它们在输出通道维上连结，卷积核的形状为$c_{o} \\times c_{i} \\times k_{h} \\times k_{w}$"
   ]
  },
  {
   "cell_type": "code",
   "execution_count": 4,
   "metadata": {},
   "outputs": [],
   "source": [
    "def corr2d_multi_in_out(X, K):\n",
    "    return torch.stack([corr2d_multi_in(X, k) for k in K])"
   ]
  },
  {
   "cell_type": "code",
   "execution_count": 5,
   "metadata": {},
   "outputs": [
    {
     "data": {
      "text/plain": [
       "(tensor([[[[0, 1],\n",
       "           [2, 3]],\n",
       " \n",
       "          [[1, 2],\n",
       "           [3, 4]]],\n",
       " \n",
       " \n",
       "         [[[1, 2],\n",
       "           [3, 4]],\n",
       " \n",
       "          [[2, 3],\n",
       "           [4, 5]]],\n",
       " \n",
       " \n",
       "         [[[2, 3],\n",
       "           [4, 5]],\n",
       " \n",
       "          [[3, 4],\n",
       "           [5, 6]]]]), torch.Size([3, 2, 2, 2]))"
      ]
     },
     "execution_count": 5,
     "metadata": {},
     "output_type": "execute_result"
    }
   ],
   "source": [
    "K = torch.stack([K, K + 1, K + 2])\n",
    "K, K.shape"
   ]
  },
  {
   "cell_type": "code",
   "execution_count": 6,
   "metadata": {},
   "outputs": [
    {
     "data": {
      "text/plain": [
       "tensor([[[ 56.,  72.],\n",
       "         [104., 120.]],\n",
       "\n",
       "        [[ 76., 100.],\n",
       "         [148., 172.]],\n",
       "\n",
       "        [[ 96., 128.],\n",
       "         [192., 224.]]])"
      ]
     },
     "execution_count": 6,
     "metadata": {},
     "output_type": "execute_result"
    }
   ],
   "source": [
    "corr2d_multi_in_out(X, K)"
   ]
  },
  {
   "cell_type": "markdown",
   "metadata": {},
   "source": [
    "# 1 * 1卷积层"
   ]
  },
  {
   "cell_type": "markdown",
   "metadata": {},
   "source": [
    "1 * 1卷积失去了卷积层可以识别高和宽度上相邻元素构成的模式的功能。\n",
    "实际上，其主要计算发生在通道维上（输入->1*1卷积->输出），通道维度增加or减少。\n",
    "\n",
    "控制模型复杂度。"
   ]
  },
  {
   "cell_type": "code",
   "execution_count": 10,
   "metadata": {},
   "outputs": [],
   "source": [
    "def corr2d_multi_in_out_1x1(X, K):\n",
    "    # c_i 通道数\n",
    "    c_i, h, w = X.shape\n",
    "    c_o = K.shape[0]\n",
    "    X = X.view(c_i, h * w)\n",
    "    K = K.view(c_o, c_i)\n",
    "    Y = torch.mm(K, X)\n",
    "    return Y.view(c_o, h, w)"
   ]
  },
  {
   "cell_type": "code",
   "execution_count": 11,
   "metadata": {},
   "outputs": [
    {
     "name": "stdout",
     "output_type": "stream",
     "text": [
      "tensor([[[0.5865, 0.6318, 0.8863],\n",
      "         [0.9830, 0.4780, 0.2027],\n",
      "         [0.6481, 0.5290, 0.6192]],\n",
      "\n",
      "        [[0.4910, 0.3826, 0.2333],\n",
      "         [0.6710, 0.0421, 0.7154],\n",
      "         [0.2667, 0.7100, 0.4201]],\n",
      "\n",
      "        [[0.7426, 0.1567, 0.6274],\n",
      "         [0.9437, 0.2318, 0.2500],\n",
      "         [0.5883, 0.9732, 0.0462]]]) tensor([[0.5865, 0.6318, 0.8863, 0.9830, 0.4780, 0.2027, 0.6481, 0.5290, 0.6192],\n",
      "        [0.4910, 0.3826, 0.2333, 0.6710, 0.0421, 0.7154, 0.2667, 0.7100, 0.4201],\n",
      "        [0.7426, 0.1567, 0.6274, 0.9437, 0.2318, 0.2500, 0.5883, 0.9732, 0.0462]])\n",
      "tensor([[[[0.0917]],\n",
      "\n",
      "         [[0.7603]],\n",
      "\n",
      "         [[0.2748]]],\n",
      "\n",
      "\n",
      "        [[[0.5891]],\n",
      "\n",
      "         [[0.9025]],\n",
      "\n",
      "         [[0.2920]]]]) tensor([[0.0917, 0.7603, 0.2748],\n",
      "        [0.5891, 0.9025, 0.2920]])\n",
      "tensor([[[0.6311, 0.3919, 0.4310],\n",
      "         [0.8596, 0.1395, 0.6312],\n",
      "         [0.4238, 0.8557, 0.3889]],\n",
      "\n",
      "        [[1.0054, 0.7633, 0.9158],\n",
      "         [1.4603, 0.3873, 0.8381],\n",
      "         [0.7943, 1.2366, 0.7574]]]) tensor([[[0.6311, 0.3919, 0.4310],\n",
      "         [0.8596, 0.1395, 0.6312],\n",
      "         [0.4238, 0.8557, 0.3889]],\n",
      "\n",
      "        [[1.0054, 0.7633, 0.9158],\n",
      "         [1.4603, 0.3873, 0.8381],\n",
      "         [0.7943, 1.2366, 0.7574]]])\n",
      "0.0\n"
     ]
    }
   ],
   "source": [
    "X = torch.rand(3, 3, 3)\n",
    "K = torch.rand(2, 3, 1, 1)\n",
    "\n",
    "print(X, X.view(3, 3 * 3))\n",
    "print(K, K.view(2, 3))\n",
    "\n",
    "Y1 = corr2d_multi_in_out_1x1(X, K)\n",
    "Y2 = corr2d_multi_in_out(X, K)\n",
    "print(Y1, Y2)\n",
    "print((Y1 - Y2).norm().item())"
   ]
  }
 ],
 "metadata": {
  "kernelspec": {
   "display_name": "Python 3",
   "language": "python",
   "name": "python3"
  },
  "language_info": {
   "codemirror_mode": {
    "name": "ipython",
    "version": 3
   },
   "file_extension": ".py",
   "mimetype": "text/x-python",
   "name": "python",
   "nbconvert_exporter": "python",
   "pygments_lexer": "ipython3",
   "version": "3.7.4"
  }
 },
 "nbformat": 4,
 "nbformat_minor": 2
}
