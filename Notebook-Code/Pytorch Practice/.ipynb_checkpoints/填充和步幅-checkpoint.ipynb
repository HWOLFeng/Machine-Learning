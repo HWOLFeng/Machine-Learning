{
 "cells": [
  {
   "cell_type": "markdown",
   "metadata": {},
   "source": [
    "一般来说，假设输入形状$n_{h} \\times n_{w}$，卷积核窗口形状$k_{h} \\times k_{w}$，那么输出形状将会是：\n",
    "$$\n",
    "\\left(n_{h}-k_{h}+1\\right) \\times\\left(n_{w}-k_{w}+1\\right)\n",
    "$$\n",
    "\n",
    "因为由输出形状由二者决定，卷积层相应有两个超参数，即填充和步幅。\n",
    "\n",
    "**填充**：在输入高和宽的两侧填充元素（通常填0）。如果在高填充共$p_{h}$，宽填充$p_{w}$，那么输出形状将会是：\n",
    "$$\n",
    "\\left(n_{h}-k_{h}+p_{h}+1\\right) \\times\\left(n_{w}-k_{w}+p_{w}+1\\right)\n",
    "$$\n",
    "在很多情况下，一般会设置$p_{h}=k_{h}-1$和$p_{w}=k_{w}-1$。当然根据$k$是奇偶，填充情况略有不同，奇数是两侧填充数量相同，偶数则是一端填多一行。\n",
    "\n",
    "**步幅**：卷积核滑动的步长。$s_{h}$和$s_{w}$为两方向步幅，输出形状为：\n",
    "$$\n",
    "\\left\\lfloor\\left(n_{h}-k_{h}+p_{h}+s_{h}\\right) / s_{h}\\right\\rfloor \\times\\left\\lfloor\\left(n_{w}-k_{w}+p_{w}+s_{w}\\right) / s_{w}\\right\\rfloor\n",
    "$$"
   ]
  },
  {
   "cell_type": "code",
   "execution_count": 1,
   "metadata": {},
   "outputs": [],
   "source": [
    "import torch\n",
    "import torch.nn as nn"
   ]
  },
  {
   "cell_type": "code",
   "execution_count": 2,
   "metadata": {},
   "outputs": [],
   "source": [
    "# 定义一个函数来计算卷积层，它对输入和输出做相应的升维和降维\n",
    "def comp_conv2d(conv2d, X):\n",
    "    X = X.view((1, 1) + X.shape)\n",
    "    Y = conv2d(X)\n",
    "    return Y.view(Y.shape[2:])"
   ]
  },
  {
   "cell_type": "code",
   "execution_count": 3,
   "metadata": {},
   "outputs": [
    {
     "data": {
      "text/plain": [
       "torch.Size([8, 8])"
      ]
     },
     "execution_count": 3,
     "metadata": {},
     "output_type": "execute_result"
    }
   ],
   "source": [
    "conv2d = nn.Conv2d(in_channels=1,out_channels=1, kernel_size=3, padding=1)\n",
    "X = torch.rand(8, 8)\n",
    "comp_conv2d(conv2d, X).shape"
   ]
  },
  {
   "cell_type": "code",
   "execution_count": 4,
   "metadata": {},
   "outputs": [
    {
     "data": {
      "text/plain": [
       "torch.Size([8, 8])"
      ]
     },
     "execution_count": 4,
     "metadata": {},
     "output_type": "execute_result"
    }
   ],
   "source": [
    "conv2d = nn.Conv2d(in_channels=1, out_channels=1, kernel_size=(5, 3), padding=(2, 1))\n",
    "comp_conv2d(conv2d, X).shape"
   ]
  },
  {
   "cell_type": "code",
   "execution_count": 5,
   "metadata": {},
   "outputs": [
    {
     "data": {
      "text/plain": [
       "torch.Size([4, 4])"
      ]
     },
     "execution_count": 5,
     "metadata": {},
     "output_type": "execute_result"
    }
   ],
   "source": [
    "conv2d = nn.Conv2d(1, 1, kernel_size=3, padding=1, stride=2)\n",
    "comp_conv2d(conv2d, X).shape"
   ]
  },
  {
   "cell_type": "code",
   "execution_count": 7,
   "metadata": {},
   "outputs": [
    {
     "data": {
      "text/plain": [
       "torch.Size([2, 2])"
      ]
     },
     "execution_count": 7,
     "metadata": {},
     "output_type": "execute_result"
    }
   ],
   "source": [
    "conv2d = nn.Conv2d(1, 1, kernel_size=(3,5), padding=(0,1), stride=(3,4))\n",
    "comp_conv2d(conv2d, X).shape"
   ]
  }
 ],
 "metadata": {
  "kernelspec": {
   "display_name": "Python 3",
   "language": "python",
   "name": "python3"
  },
  "language_info": {
   "codemirror_mode": {
    "name": "ipython",
    "version": 3
   },
   "file_extension": ".py",
   "mimetype": "text/x-python",
   "name": "python",
   "nbconvert_exporter": "python",
   "pygments_lexer": "ipython3",
   "version": "3.7.4"
  }
 },
 "nbformat": 4,
 "nbformat_minor": 2
}
