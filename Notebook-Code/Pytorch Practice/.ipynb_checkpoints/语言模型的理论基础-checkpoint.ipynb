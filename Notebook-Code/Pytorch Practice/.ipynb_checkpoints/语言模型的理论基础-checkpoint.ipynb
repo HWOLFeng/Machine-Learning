{
 "cells": [
  {
   "cell_type": "markdown",
   "metadata": {},
   "source": [
    "给定一个长度为$T$的词的序列：$\n",
    "w_{1}, w_{2}, \\dots, w_{T}\n",
    "$，语言模型将计算该序列的概率：$P\\left(w_{1}, w_{2}, \\dots, w_{T}\\right)$\n",
    "\n",
    "语言模型可用于提升语音识别和机器翻译的性能。"
   ]
  },
  {
   "cell_type": "markdown",
   "metadata": {},
   "source": [
    "# 语言模型的计算\n",
    "假设序列$w_{1}, w_{2}, \\dots, w_{T}$中的每个词是依次生成的，有：\n",
    "$$\n",
    "P\\left(w_{1}, w_{2}, \\dots, w_{T}\\right)=\\prod_{t=1}^{T} P\\left(w_{t} | w_{1}, \\dots, w_{t-1}\\right)\n",
    "$$\n",
    "例如，一段含有4个词的文本序列的概率：\n",
    "$$\n",
    "P\\left(w_{1}, w_{2}, w_{3}, w_{4}\\right)=P\\left(w_{1}\\right) P\\left(w_{2} | w_{1}\\right) P\\left(w_{3} | w_{1}, w_{2}\\right) P\\left(w_{4} | w_{1}, w_{2}, w_{3}\\right)\n",
    "$$\n",
    "\n",
    "为了计算语言模型，我们需要计算词的概率，一级一个词在给定前几个词的情况下的条件概率，即语言模型参数。"
   ]
  },
  {
   "cell_type": "markdown",
   "metadata": {},
   "source": [
    "# n元语法\n",
    "当序列长度增加时，计算和存储多个词共同出现的概率的复杂度呈指数级增加。n元语法通过马尔客服假设简化模型的计算。马尔可夫假设是指一个词的出现只与前n个词相关，即n阶马尔可夫链。基于n-1阶马尔可夫链，我们可以将语言模型改写为：\n",
    "$$\n",
    "P\\left(w_{1}, w_{2}, \\ldots, w_{T}\\right) \\approx \\prod_{t=1}^{T} P\\left(w_{t} | w_{t-(n-1)}, \\ldots, w_{t-1}\\right)\n",
    "$$\n",
    "\n",
    "n=1,2,3语法中的概率分别为：\n",
    "$$\n",
    "\\begin{array}{l}{P\\left(w_{1}, w_{2}, w_{3}, w_{4}\\right)=P\\left(w_{1}\\right) P\\left(w_{2}\\right) P\\left(w_{3}\\right) P\\left(w_{4}\\right)} \\\\ {P\\left(w_{1}, w_{2}, w_{3}, w_{4}\\right)=P\\left(w_{1}\\right) P\\left(w_{2} | w_{1}\\right) P\\left(w_{3} | w_{2}\\right) P\\left(w_{4} | w_{3}\\right)} \\\\ {P\\left(w_{1}, w_{2}, w_{3}, w_{4}\\right)=P\\left(w_{1}\\right) P\\left(w_{2} | w_{1}\\right) P\\left(w_{3} | w_{1}, w_{2}\\right) P\\left(w_{4} | w_{2}, w_{3}\\right)}\\end{array}\n",
    "$$\n",
    "\n",
    "当n比较小的时候，模型是不准确的；\n",
    "\n",
    "当n比较大的时候，需要计算、存储大量的词频和多词相邻频率。"
   ]
  }
 ],
 "metadata": {
  "kernelspec": {
   "display_name": "Python 3",
   "language": "python",
   "name": "python3"
  },
  "language_info": {
   "codemirror_mode": {
    "name": "ipython",
    "version": 3
   },
   "file_extension": ".py",
   "mimetype": "text/x-python",
   "name": "python",
   "nbconvert_exporter": "python",
   "pygments_lexer": "ipython3",
   "version": "3.7.5"
  }
 },
 "nbformat": 4,
 "nbformat_minor": 2
}
