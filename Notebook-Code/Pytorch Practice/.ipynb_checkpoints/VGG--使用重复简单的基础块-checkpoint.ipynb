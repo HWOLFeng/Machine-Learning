{
 "cells": [
  {
   "cell_type": "markdown",
   "metadata": {},
   "source": [
    "# VGG\n",
    "Visual Geometry Group实验室。\n",
    "\n",
    "## VGG块\n",
    "连续使用数个相同的padding为1，size为3 * 3的卷积层，后接上stride为2，size为2 * 2的最大池化层。\n",
    "\n",
    "卷积层保持输入的高和宽不变，而池化层对其减半。\n",
    "\n",
    "## 为何选择小卷积核？\n",
    "对于给定（保证相同）感受野，采用堆积的小卷积核优于采用大的卷积核，因此可以加深网络深度保证学习更复杂的模式，代价还比较小。\n",
    "\n",
    "VGG中3个3 * 3卷积核代替7 * 7卷积核，2个3 * 3卷积核代替5 * 5卷积核。"
   ]
  },
  {
   "cell_type": "code",
   "execution_count": 1,
   "metadata": {},
   "outputs": [],
   "source": [
    "import time\n",
    "import torch\n",
    "from torch import nn, optim\n",
    "import d2lzh_pytorch as d2l\n",
    "device = torch.device('cuda' if torch.cuda.is_available() else 'cpu')"
   ]
  },
  {
   "cell_type": "code",
   "execution_count": 2,
   "metadata": {},
   "outputs": [],
   "source": [
    "def vgg_block(num_convs, in_channels, out_channels):\n",
    "    blk = []\n",
    "    for i in range(num_convs):\n",
    "        if i == 0:\n",
    "            blk.append(nn.Conv2d(in_channels, out_channels, kernel_size=3, padding=1))\n",
    "        else:\n",
    "            blk.append(nn.Conv2d(out_channels, out_channels, kernel_size=3, padding=1))\n",
    "        blk.append(nn.ReLU())\n",
    "    # 这里会使宽高减半\n",
    "    blk.append(nn.MaxPool2d(kernel_size=2, stride=2))\n",
    "    return nn.Sequential(*blk)"
   ]
  },
  {
   "cell_type": "code",
   "execution_count": 3,
   "metadata": {},
   "outputs": [],
   "source": [
    "conv_arch = ((1,1,64),(1,64,128),(2,128,256),(2,256,512),(2,512,512))\n",
    "# 经过5个vgg_block，宽高会减半5次，变成 224 / 32 = 7\n",
    "fc_features = 512 * 7 * 7\n",
    "fc_hidden_units = 4096"
   ]
  },
  {
   "cell_type": "code",
   "execution_count": null,
   "metadata": {},
   "outputs": [],
   "source": [
    "def vgg(conv_arch, fc_features, fc_hidden_units=4096, net=nn.Sequential()):\n",
    "    for i, (num_convs,  in_channels, out_channels) in enumerate(conv_arch):\n",
    "        net.add_module('vgg_block_' + str(i+1), vgg_block(num_convs, in_channels, out_channels))\n",
    "    net.add_module('fc', nn.Sequential(\n",
    "        d2l.FlattenLayer()\n",
    "    ))\n",
    "        \n"
   ]
  }
 ],
 "metadata": {
  "kernelspec": {
   "display_name": "Python 3",
   "language": "python",
   "name": "python3"
  },
  "language_info": {
   "codemirror_mode": {
    "name": "ipython",
    "version": 3
   },
   "file_extension": ".py",
   "mimetype": "text/x-python",
   "name": "python",
   "nbconvert_exporter": "python",
   "pygments_lexer": "ipython3",
   "version": "3.7.4"
  }
 },
 "nbformat": 4,
 "nbformat_minor": 2
}
