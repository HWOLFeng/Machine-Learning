{
 "cells": [
  {
   "cell_type": "code",
   "execution_count": 1,
   "metadata": {},
   "outputs": [
    {
     "name": "stderr",
     "output_type": "stream",
     "text": [
      "/usr/local/lib/python3.7/site-packages/sklearn/externals/joblib/__init__.py:15: DeprecationWarning: sklearn.externals.joblib is deprecated in 0.21 and will be removed in 0.23. Please import this functionality directly from joblib, which can be installed with: pip install joblib. If this warning is raised when loading pickled models, you may need to re-serialize those models with scikit-learn 0.21+.\n",
      "  warnings.warn(msg, category=DeprecationWarning)\n"
     ]
    }
   ],
   "source": [
    "import word2vec"
   ]
  },
  {
   "cell_type": "code",
   "execution_count": 2,
   "metadata": {},
   "outputs": [],
   "source": [
    "model = word2vec.load(\n",
    "    '/Users/hwolf/Documents/ML/Task/MyCode/Feature_Project/text8.bin')"
   ]
  },
  {
   "cell_type": "code",
   "execution_count": 3,
   "metadata": {},
   "outputs": [
    {
     "data": {
      "text/plain": [
       "array([0.08373695, 0.04468816, 0.05636466, 0.03078443, 0.09161185,\n",
       "       0.01202294, 0.06528571, 0.18894066, 0.11068296, 0.0208387 ])"
      ]
     },
     "execution_count": 3,
     "metadata": {},
     "output_type": "execute_result"
    }
   ],
   "source": [
    "model['dog'][:10]"
   ]
  },
  {
   "cell_type": "code",
   "execution_count": 4,
   "metadata": {},
   "outputs": [
    {
     "data": {
      "text/plain": [
       "100"
      ]
     },
     "execution_count": 4,
     "metadata": {},
     "output_type": "execute_result"
    }
   ],
   "source": [
    "len(model['dog'])"
   ]
  },
  {
   "cell_type": "code",
   "execution_count": 5,
   "metadata": {},
   "outputs": [
    {
     "data": {
      "text/plain": [
       "[('dog', 'cat', 0.8712839077505912),\n",
       " ('dog', 'fish', 0.5859161610226477),\n",
       " ('cat', 'fish', 0.6205921141583073)]"
      ]
     },
     "execution_count": 5,
     "metadata": {},
     "output_type": "execute_result"
    }
   ],
   "source": [
    "model.distance(\"dog\", \"cat\", \"fish\")"
   ]
  },
  {
   "cell_type": "code",
   "execution_count": 6,
   "metadata": {},
   "outputs": [
    {
     "data": {
      "text/plain": [
       "(array([ 2437,  5478,  7593, 10309, 10230, 11605,  2428,  2670,  9744,\n",
       "         2391]),\n",
       " array([0.87128391, 0.83971487, 0.78216805, 0.76888178, 0.76420112,\n",
       "        0.75614681, 0.75294055, 0.75031088, 0.75026558, 0.74901743]))"
      ]
     },
     "execution_count": 6,
     "metadata": {},
     "output_type": "execute_result"
    }
   ],
   "source": [
    "indexes, metrics = model.similar(\"dog\")\n",
    "indexes, metrics"
   ]
  },
  {
   "cell_type": "code",
   "execution_count": 7,
   "metadata": {},
   "outputs": [
    {
     "data": {
      "text/plain": [
       "array(['cat', 'cow', 'goat', 'rat', 'pig', 'lamb', 'bear', 'bird',\n",
       "       'hamster', 'girl'], dtype='<U78')"
      ]
     },
     "execution_count": 7,
     "metadata": {},
     "output_type": "execute_result"
    }
   ],
   "source": [
    "model.vocab[indexes]"
   ]
  },
  {
   "cell_type": "code",
   "execution_count": 8,
   "metadata": {},
   "outputs": [
    {
     "data": {
      "text/plain": [
       "rec.array([('cat', 0.87128391), ('cow', 0.83971487), ('goat', 0.78216805),\n",
       "           ('rat', 0.76888178), ('pig', 0.76420112), ('lamb', 0.75614681),\n",
       "           ('bear', 0.75294055), ('bird', 0.75031088),\n",
       "           ('hamster', 0.75026558), ('girl', 0.74901743)],\n",
       "          dtype=[('word', '<U78'), ('metric', '<f8')])"
      ]
     },
     "execution_count": 8,
     "metadata": {},
     "output_type": "execute_result"
    }
   ],
   "source": [
    "model.generate_response(indexes, metrics)"
   ]
  },
  {
   "cell_type": "code",
   "execution_count": 9,
   "metadata": {},
   "outputs": [
    {
     "data": {
      "text/plain": [
       "[('cat', 0.8712839077505912),\n",
       " ('cow', 0.8397148683614772),\n",
       " ('goat', 0.7821680537056569),\n",
       " ('rat', 0.7688817799218144),\n",
       " ('pig', 0.7642011182869997),\n",
       " ('lamb', 0.756146807107016),\n",
       " ('bear', 0.752940548833583),\n",
       " ('bird', 0.750310881923165),\n",
       " ('hamster', 0.7502655775727601),\n",
       " ('girl', 0.7490174317148384)]"
      ]
     },
     "execution_count": 9,
     "metadata": {},
     "output_type": "execute_result"
    }
   ],
   "source": [
    "model.generate_response(indexes, metrics).tolist()"
   ]
  },
  {
   "cell_type": "code",
   "execution_count": 10,
   "metadata": {},
   "outputs": [
    {
     "data": {
      "text/plain": [
       "[('san_francisco', 0.8859404367729196),\n",
       " ('san_diego', 0.8735794765159064),\n",
       " ('las_vegas', 0.8533881987471482),\n",
       " ('seattle', 0.839364890441354),\n",
       " ('miami', 0.8321991214156517),\n",
       " ('detroit', 0.8199665424941271),\n",
       " ('chicago', 0.8180901209930995),\n",
       " ('california', 0.814432353407983),\n",
       " ('cleveland', 0.8134833415145111),\n",
       " ('cincinnati', 0.8096725344672613)]"
      ]
     },
     "execution_count": 10,
     "metadata": {},
     "output_type": "execute_result"
    }
   ],
   "source": [
    "# phrase\n",
    "indexes, metrics = model.similar('los_angeles')\n",
    "model.generate_response(indexes, metrics).tolist()"
   ]
  },
  {
   "cell_type": "code",
   "execution_count": 11,
   "metadata": {},
   "outputs": [
    {
     "data": {
      "text/plain": [
       "(array([1087, 1145, 7523, 1335,  648, 8419, 1827, 3141, 6768, 4980]),\n",
       " array([0.29400899, 0.27664877, 0.27311532, 0.26672223, 0.26495005,\n",
       "        0.26475681, 0.26333285, 0.26019265, 0.25890048, 0.25798664]))"
      ]
     },
     "execution_count": 11,
     "metadata": {},
     "output_type": "execute_result"
    }
   ],
   "source": [
    "# king - man + woman = queen\n",
    "indexes, metrics = model.analogy(pos=['king', 'woman'], neg=['man'])\n",
    "indexes, metrics"
   ]
  },
  {
   "cell_type": "code",
   "execution_count": 12,
   "metadata": {},
   "outputs": [
    {
     "data": {
      "text/plain": [
       "[('queen', 0.2940089895130583),\n",
       " ('prince', 0.27664876738819183),\n",
       " ('empress', 0.27311532434417374),\n",
       " ('wife', 0.2667222253096962),\n",
       " ('emperor', 0.264950045164735),\n",
       " ('aragon', 0.26475681252370886),\n",
       " ('throne', 0.26333285171570997),\n",
       " ('monarch', 0.26019264826891175),\n",
       " ('regent', 0.25890047788481274),\n",
       " ('heir', 0.25798663637619834)]"
      ]
     },
     "execution_count": 12,
     "metadata": {},
     "output_type": "execute_result"
    }
   ],
   "source": [
    "model.generate_response(indexes, metrics).tolist()"
   ]
  },
  {
   "cell_type": "code",
   "execution_count": 13,
   "metadata": {},
   "outputs": [],
   "source": [
    "# 根据向量维度cluster\n",
    "clusters = word2vec.load_clusters('/Users/hwolf/Documents/ML/Task/MyCode/Feature_Project/text8-clusters.txt')"
   ]
  },
  {
   "cell_type": "code",
   "execution_count": 14,
   "metadata": {},
   "outputs": [
    {
     "data": {
      "text/plain": [
       "array(['</s>', 'the', 'of', ..., 'bredon', 'skirting', 'santamaria'],\n",
       "      dtype='<U29')"
      ]
     },
     "execution_count": 14,
     "metadata": {},
     "output_type": "execute_result"
    }
   ],
   "source": [
    "clusters.vocab"
   ]
  },
  {
   "cell_type": "code",
   "execution_count": 15,
   "metadata": {},
   "outputs": [
    {
     "data": {
      "text/plain": [
       "(194,)"
      ]
     },
     "execution_count": 15,
     "metadata": {},
     "output_type": "execute_result"
    }
   ],
   "source": [
    "clusters.get_words_on_cluster(90).shape"
   ]
  },
  {
   "cell_type": "code",
   "execution_count": 16,
   "metadata": {},
   "outputs": [
    {
     "data": {
      "text/plain": [
       "array(['along', 'associated', 'relations', 'relationship', 'deal',\n",
       "       'combined', 'contact', 'connection', 'bond', 'respect'],\n",
       "      dtype='<U29')"
      ]
     },
     "execution_count": 16,
     "metadata": {},
     "output_type": "execute_result"
    }
   ],
   "source": [
    "clusters.get_words_on_cluster(90)[:10]"
   ]
  },
  {
   "cell_type": "code",
   "execution_count": 17,
   "metadata": {},
   "outputs": [
    {
     "data": {
      "text/plain": [
       "array(['along', 'associated', 'relations', 'relationship', 'deal',\n",
       "       'combined', 'contact', 'connection', 'bond', 'respect', 'shared',\n",
       "       'exception', 'concerned', 'charged', 'keeping', 'confused',\n",
       "       'consistent', 'connections', 'dealing', 'merged', 'ties',\n",
       "       'friendly', 'shares', 'replacing', 'tied', 'deals', 'associate',\n",
       "       'correspondence', 'dealt', 'friendship', 'collaboration',\n",
       "       'accordance', 'conjunction', 'coupled', 'albeit', 'aligned',\n",
       "       'interact', 'affiliated', 'rivalry', 'overlap', 'accord',\n",
       "       'synonymous', 'accompanying', 'encounters', 'incompatible',\n",
       "       'contacts', 'contrasted', 'disagree', 'par', 'clash',\n",
       "       'inconsistent', 'interfere', 'contrasts', 'diagnosed', 'satisfied',\n",
       "       'certainty', 'cope', 'collaborated', 'agrees', 'experimented',\n",
       "       'merging', 'conversations', 'interacting', 'comply',\n",
       "       'consultation', 'unhappy', 'paired', 'coincide', 'communicating',\n",
       "       'disagreements', 'obsession', 'coincided', 'endowed',\n",
       "       'experimenting', 'cooperate', 'unfamiliar', 'acquainted',\n",
       "       'negotiating', 'disagreed', 'uncomfortable', 'dissatisfied',\n",
       "       'concurrently', 'obsessed', 'feud', 'dissatisfaction',\n",
       "       'corresponded', 'correlated', 'fascination', 'bundled',\n",
       "       'interacts', 'reservations', 'clashed', 'dealings', 'coincides',\n",
       "       'familiarity', 'equated', 'interfering', 'furnished', 'teamed',\n",
       "       'albinism'], dtype='<U29')"
      ]
     },
     "execution_count": 17,
     "metadata": {},
     "output_type": "execute_result"
    }
   ],
   "source": [
    "clusters.get_words_on_cluster(90)[:100]"
   ]
  },
  {
   "cell_type": "code",
   "execution_count": 18,
   "metadata": {},
   "outputs": [],
   "source": [
    "model.clusters = clusters"
   ]
  },
  {
   "cell_type": "code",
   "execution_count": 19,
   "metadata": {},
   "outputs": [
    {
     "data": {
      "text/plain": [
       "(132,)"
      ]
     },
     "execution_count": 19,
     "metadata": {},
     "output_type": "execute_result"
    }
   ],
   "source": [
    "clusters.get_words_on_cluster(1).shape"
   ]
  },
  {
   "cell_type": "code",
   "execution_count": 20,
   "metadata": {},
   "outputs": [
    {
     "data": {
      "text/plain": [
       "array(['been', 'made', 'became', 'led', 'began', 'included', 'lost',\n",
       "       'continued', 'despite', 'received', 'followed', 'started',\n",
       "       'brought', 'saw', 'remained', 'appeared', 'changed', 'adopted',\n",
       "       'reached', 'spread', 'ended', 'proved', 'gained', 'entered',\n",
       "       'resulted', 'occurred', 'marked', 'achieved', 'suffered',\n",
       "       'expanded', 'dominated', 'existed', 'contributed', 'evolved',\n",
       "       'finished', 'acquired', 'experienced', 'begun', 'emerged', 'grown',\n",
       "       'survived', 'originated', 'faced', 'retained', 'declined',\n",
       "       'earned', 'enjoyed', 'attracted', 'fallen', 'arose', 'recovered',\n",
       "       'inherited', 'gaining', 'ceased', 'prevented', 'disappeared',\n",
       "       'participated', 'revived', 'shifted', 'prompted', 'delayed',\n",
       "       'weakened', 'witnessed', 'resumed', 'diminished', 'underwent',\n",
       "       'attained', 'consolidated', 'spawned', 'flourished', 'regained',\n",
       "       'culminated', 'struggled', 'sparked', 'accumulated', 'provoked',\n",
       "       'progressed', 'surpassed', 'plagued', 'prevailed', 'ensured',\n",
       "       'competed', 'arisen', 'undergone', 'fueled', 'inception', 'ranged',\n",
       "       'commenced', 'risen', 'differed', 'faded', 'yielded', 'benefited',\n",
       "       'persisted', 'surfaced', 'reverted', 'waned', 'garnered',\n",
       "       'deteriorated', 'boosted'], dtype='<U29')"
      ]
     },
     "execution_count": 20,
     "metadata": {},
     "output_type": "execute_result"
    }
   ],
   "source": [
    "clusters.get_words_on_cluster(1)[:100]"
   ]
  },
  {
   "cell_type": "code",
   "execution_count": 21,
   "metadata": {},
   "outputs": [
    {
     "data": {
      "text/plain": [
       "(array([18380, 83116, 19110, 29341, 47322,  5836, 64146, 87722, 18541,\n",
       "        38915]),\n",
       " array([0.80647958, 0.79652429, 0.78207649, 0.78121059, 0.77943047,\n",
       "        0.76720594, 0.75948585, 0.75603425, 0.75404697, 0.74784973]))"
      ]
     },
     "execution_count": 21,
     "metadata": {},
     "output_type": "execute_result"
    }
   ],
   "source": [
    "indexes, metrics = model.similar('risen')\n",
    "indexes, metrics"
   ]
  },
  {
   "cell_type": "code",
   "execution_count": 22,
   "metadata": {},
   "outputs": [
    {
     "data": {
      "text/plain": [
       "<word2vec.wordclusters.WordClusters at 0x111ac7490>"
      ]
     },
     "execution_count": 22,
     "metadata": {},
     "output_type": "execute_result"
    }
   ],
   "source": [
    "clusters"
   ]
  },
  {
   "cell_type": "code",
   "execution_count": 23,
   "metadata": {},
   "outputs": [
    {
     "data": {
      "text/plain": [
       "array(['undergone', 'erred', 'fallen_into', 'sprung_up',\n",
       "       'increased_significantly', 'fallen', 'evolved_independently',\n",
       "       'continued_unabated', 'gotten', 'fluctuated'], dtype='<U78')"
      ]
     },
     "execution_count": 23,
     "metadata": {},
     "output_type": "execute_result"
    }
   ],
   "source": [
    "model.vocab[indexes]"
   ]
  },
  {
   "cell_type": "code",
   "execution_count": null,
   "metadata": {},
   "outputs": [],
   "source": []
  }
 ],
 "metadata": {
  "kernelspec": {
   "display_name": "Python 3",
   "language": "python",
   "name": "python3"
  },
  "language_info": {
   "codemirror_mode": {
    "name": "ipython",
    "version": 3
   },
   "file_extension": ".py",
   "mimetype": "text/x-python",
   "name": "python",
   "nbconvert_exporter": "python",
   "pygments_lexer": "ipython3",
   "version": "3.7.4"
  }
 },
 "nbformat": 4,
 "nbformat_minor": 2
}
